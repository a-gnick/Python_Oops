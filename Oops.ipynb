{
  "nbformat": 4,
  "nbformat_minor": 0,
  "metadata": {
    "colab": {
      "provenance": []
    },
    "kernelspec": {
      "name": "python3",
      "display_name": "Python 3"
    },
    "language_info": {
      "name": "python"
    }
  },
  "cells": [
    {
      "cell_type": "markdown",
      "source": [
        "#Oops"
      ],
      "metadata": {
        "id": "UUnFklubUb17"
      }
    },
    {
      "cell_type": "markdown",
      "source": [
        "1. What is Object-Oriented Programming (OOP)?\n",
        "  - Object-Oriented Programming is a programming paradigm based on the concept of \"objects\", which can contain data in the form of fields (attributes or properties), and code in the form of procedures (methods). OOP helps in organizing complex programs, promotes code reuse, and models real-world\n",
        " systems effectively.\n",
        "\n",
        "2. What is a class in OOP?\n",
        "    - A class is a blueprint or prototype from which objects are created. It defines a set of attributes and methods that the created objects will have. For example, a class \"Car\" can have attributes like color\n",
        " and model, and methods like drive() and stop().\n",
        "\n",
        "3. What is an object in OOP?\n",
        "   - An object is an instance of a class. It represents a real-world entity and has the properties and\n",
        " behaviors defined by the class. For example, an object \"my\\_car\" can be created from the class \"Car\".\n",
        "\n",
        "4. What is the difference between abstraction and encapsulation?\n",
        " - -  Abstraction: It hides unnecessary details and shows only essential features of the object. For\n",
        " example, a driver doesn't need to know how the engine works to drive a car.\n",
        "    - Encapsulation: It is the bundling of data and methods that operate on the data within one unit (class), and restricting access to some of the object's components. This is usually done using private or protected access modifiers.\n",
        "\n",
        "5. What are dunder methods in Python?\n",
        "   -  Dunder methods (short for \"double underscore\") are special methods in Python with names starting and ending with double underscores, like `__init__`, `__str__`, `__add__`, etc. These methods allow you to define how objects behave with built-in Python operations.\n",
        "\n",
        "6. Explain the concept of inheritance in OOP.\n",
        " - Inheritance allows one class (child or derived class) to inherit attributes and methods from another class (parent or base class). This promotes code reuse and establishes a natural hierarchy between classes.  \n",
        "\n",
        "7. What is polymorphism in OOP?\n",
        " - Polymorphism means having many forms. In OOP, it allows objects of different classes to be treated as objects of a common superclass. It is often achieved via method overriding or interfaces, enabling a unified interface for different underlying forms.\n",
        "\n",
        "8. How is encapsulation achieved in Python?\n",
        " - Encapsulation in Python is achieved using private (`__attribute`) or protected (`_attribute`) access modifiers. Access to these attributes is restricted, and they can be accessed/modified through methods like getters and setters.  \n",
        "\n",
        "9. What is a constructor in Python?\n",
        " - Aconstructor is a special method named `__init__` in Python. It is automatically invoked when an object is created from a class and is used to initialize the attributes of the object.\n",
        "\n",
        "10. What are class and static methods in Python?\n",
        " -  - Class Method: Defined with `@classmethod` decorator and takes `cls` as the first argument.\n",
        " It can access or modify class state.\n",
        "      - Static Method**: Defined with `@staticmethod` decorator and doesn’t take `self` or `cls`. It can’t access or modify the class state.\n",
        "\n",
        "11. What is method overloading in Python?\n",
        "    - Python doesn’t support traditional method overloading. However, it can be simulated using default parameters or variable-length arguments (`*args`, `**kwargs`) in a method to handle different use cases.\n",
        "\n",
        "12. What is method overriding in OOP?\n",
        "    - Method overriding occurs when a child class provides a specific implementation of a method that is already defined in its parent class. It allows for runtime polymorphism.\n",
        "\n",
        "13. What is a property decorator in Python?**\n",
        "    - The `property` decorator is used to define a method as a property. It allows you to access method results like attributes and can also create read-only or computed attributes.\n",
        "\n",
        "14. Why is polymorphism important in OOP?\n",
        "    - Polymorphism enables a single interface to control access to a wide range of underlying types. It increases the flexibility and scalability of code and allows different classes to be treated as instances of the same class through a common interface.\n",
        "\n",
        "15. What is an abstract class in Python?\n",
        "    - An abstract class is a class that cannot be instantiated and is meant to be subclassed. It often includes abstract methods defined using the `@abstractmethod` decorator from the `abc` module, which must be implemented by derived classes.\n",
        "\n",
        "16. What are the advantages of OOP?\n",
        "    - - Modularity: Each class is a separate module.\n",
        "      - Reusability: Inheritance allows reusing code.\n",
        "      - Flexibility: Polymorphism makes code more flexible.\n",
        "      - Maintainability: Encapsulation keeps code clean and maintainable.\n",
        "\n",
        "17. What is the difference between a class variable and an instance variable?\n",
        "    - A class variable is a variable that is shared among all instances of a class, meaning it has the same value for every object created from that class unless explicitly overridden. It is defined within the class but outside any instance methods. In contrast, an instance variable is specific to each object; it is defined inside methods using the `self` keyword and holds data unique to that particular instance. While class variables are useful for storing properties common to all objects (like a species name for all dogs), instance variables are used to store data that varies from one object to another (like a dog's individual name). This distinction helps manage shared versus unique data efficiently within object-oriented programming.\n",
        "\n",
        "18. What is multiple inheritance in Python?  \n",
        "    - Multiple inheritance in Python is a feature that allows a class to inherit attributes and methods from more than one parent class. This means a single child class can access the functionality of multiple base classes, enabling more flexible and reusable code. For example, if class `C` inherits from both class `A` and class `B`, it can use methods and properties defined in both `A` and `B`. Python handles potential conflicts (like methods with the same name in different parent classes) using the Method Resolution Order (MRO), which determines the order in which base classes are searched when executing a method. While powerful, multiple inheritance should be used carefully to avoid complexity and ambiguity in code structure.\n",
        "\n",
        "19. Explain the purpose of ‘’__str__’ and ‘__repr__’ ‘ methods in Python.\n",
        "    - In Python, the `__str__` and `__repr__` methods are special (or \"magic\") methods used to define how objects are represented as strings, but they serve slightly different purposes. The `__str__` method is intended to return a human-readable string representation of an object. It’s what gets called when you use the `print()` function or `str()` on an object. Its goal is to be clear and user-friendly, often summarizing the object in a way that’s easy to understand. The `__repr__` method, on the other hand, is meant to return an unambiguous string representation of the object, ideally one that could be used to recreate the object if passed to `eval()`. It’s mainly used for debugging and development, and it’s what you see when you inspect an object directly in the interpreter. If `__str__` is not defined, Python falls back to using `__repr__`. A good rule of thumb is: `__repr__` is for developers, `__str__` is for users.\n",
        "\n",
        "20. What is the significance of the ‘super()’ function in Python?\n",
        "    - The `super()` function in Python is used to call a method from a parent (or superclass) within a child (or subclass). Its primary significance lies in enabling access to inherited methods without explicitly naming the parent class, which makes code more maintainable and supports multiple inheritance more cleanly. By using `super()`, you can initialize the parent class inside a subclass, extend its behavior, or avoid code duplication. This is especially useful in complex class hierarchies, where calling `super()` ensures that the method resolution order (MRO) is respected, allowing Python to determine the correct method to invoke based on the class hierarchy. In short, `super()` promotes cleaner, more modular, and more scalable object-oriented code.\n",
        "\n",
        "21. What is the significance of the del method in Python?\n",
        "    - The `__del__` method in Python is a special method known as a destructor. It is called automatically when an object is about to be destroyed, typically when there are no more references to it. The main purpose of `__del__` is to allow for clean-up actions, such as closing files, releasing network connections, or freeing up other external resources that the object may have acquired during its lifetime. However, its use is generally discouraged unless absolutely necessary, because the timing of its execution is unpredictable—especially in environments with complex reference cycles or when using garbage collection. Instead, Python developers often prefer using context managers (`with` statements) for more reliable and explicit resource management.\n",
        "\n",
        "22. What is the difference between @staticmethod and @classmethod in Python?\n",
        "    - The difference between `@staticmethod` and `@classmethod` in Python lies in how they access class or instance data and how they are used within a class:\n",
        "\n",
        "        - @static method defines a method that does not access or modify class or instance state. It behaves like a regular function but belongs to the class’s namespace. It doesn’t take `self` or `cls` as its first argument. Use it when the method logically belongs to the class but doesn’t need to interact with class or instance attributes.\n",
        "\n",
        "        - @class method, on the other hand, takes `cls` as its first argument, which refers to the class itself (not an instance). This allows it to access or modify class-level attributes and is often used for factory methods that create instances in different ways.\n",
        "\n",
        "23. How does polymorphism work in Python with inheritance?    \n",
        "    - Polymorphism in Python, especially when used with inheritance, allows objects of different classes to be treated as objects of a common superclass. It enables a unified interface for different data types, meaning that the same method name can behave differently depending on the object calling it.\n",
        "    For example, if you have a base class Animal with a method speak(), and subclasses Dog and Cat each override speak() with their own implementation, you can loop through a list of Animal objects and call speak() on each—Python will call the appropriate method for Dog or Cat. This makes code more flexible, extensible, and easier to maintain.\n",
        "    \n",
        "24. What is method chaining in Python OOP?\n",
        "    - Method chaining in Python object-oriented programming (OOP) is a technique where multiple methods are called on the same object in a single line, one after another. This is made possible by designing methods to return the object itself—typically using return self—so that the next method can be called directly on the returned object.\n",
        "\n",
        "25. What is the purpose of the __call__ method in Python?\n",
        "    - The __call__ method in Python allows an instance of a class to be called as if it were a regular function. By defining __call__ in a class, you give its objects function-like behavior, meaning you can use parentheses after the object name to execute custom logic.\n",
        "        \n",
        "    \n",
        "\n",
        "\n",
        "   \n",
        "                                 \n"
      ],
      "metadata": {
        "id": "eEV_vvFZUhSq"
      }
    },
    {
      "cell_type": "code",
      "source": [
        "# 1.Create a parent class Animal with a method speak() that prints a generic message.Create a child class Dog that overrides the speak() method to print \"Bark!\".\n",
        "\n",
        "class Animal:\n",
        "  def speak(self):\n",
        "    print(\"The animal makes a generic sound\",end=\" \")\n",
        "class Dog(Animal):\n",
        "  def speak(self):\n",
        "    print(\"Bark!\")\n",
        "\n",
        "animal = Animal()\n",
        "dog = Dog()\n",
        "animal.speak()\n",
        "dog.speak()\n",
        "print(\"-\" * 50)"
      ],
      "metadata": {
        "colab": {
          "base_uri": "https://localhost:8080/"
        },
        "id": "dHrUc3VQk31V",
        "outputId": "01102b14-3104-4d45-d965-c5c691a4a2dd"
      },
      "execution_count": null,
      "outputs": [
        {
          "output_type": "stream",
          "name": "stdout",
          "text": [
            "The animal makes a generic sound Bark!\n",
            "--------------------------------------------------\n"
          ]
        }
      ]
    },
    {
      "cell_type": "code",
      "source": [
        "# 2.. Write a program to create an abstract class Shape with a method area(). Derive classes Circle and Rectangle from it and implement the area() method in both.\n",
        "\n",
        "from abc import ABC, abstractmethod\n",
        "\n",
        "class Shape(ABC):\n",
        "    @abstractmethod\n",
        "    def area(self):\n",
        "        pass\n",
        "\n",
        "class Circle(Shape):\n",
        "    def __init__(self, radius):\n",
        "        self.radius = radius\n",
        "    def area(self):\n",
        "        return 3.14 * self.radius ** 2\n",
        "\n",
        "class Rectangle(Shape):\n",
        "    def __init__(self, length, width):\n",
        "        self.length = length\n",
        "        self.width = width\n",
        "    def area(self):\n",
        "        return self.length * self.width\n",
        "\n",
        "c=Circle(2)\n",
        "print(c.area())\n",
        "\n",
        "r=Rectangle(10,20)\n",
        "print(r.area())"
      ],
      "metadata": {
        "colab": {
          "base_uri": "https://localhost:8080/"
        },
        "id": "iOPS47pD1e0n",
        "outputId": "c8d9c3ad-5a14-4dad-83ba-4c61335c4b69"
      },
      "execution_count": null,
      "outputs": [
        {
          "output_type": "stream",
          "name": "stdout",
          "text": [
            "12.56\n",
            "200\n"
          ]
        }
      ]
    },
    {
      "cell_type": "code",
      "source": [
        "# 3.Implement a multi-level inheritance scenario where a class Vehicle has an attribute type. Derive a class Car and further derive a class ElectricCar that adds a battery attribute.\n",
        "\n",
        "class Vehicle:\n",
        " def __init__(self, vehicle_type):\n",
        "  self.type = vehicle_type\n",
        " def display_info(self):\n",
        "  print(f\"Vehicle type: {self.type}\")\n",
        "\n",
        "class Car(Vehicle):\n",
        " def __init__(self, vehicle_type, brand):\n",
        "  super().__init__(vehicle_type)\n",
        "  self.brand = brand\n",
        " def display_info(self):\n",
        "  super().display_info()\n",
        "  print(f\"Brand: {self.brand}\")\n",
        "\n",
        "class ElectricCar(Car):\n",
        " def __init__(self, vehicle_type, brand, battery_capacity):\n",
        "  super().__init__(vehicle_type, brand)\n",
        "  self.battery = battery_capacity\n",
        " def display_info(self):\n",
        "  super().display_info()\n",
        "  print(f\"Battery capacity: {self.battery} kWh\")\n",
        "\n",
        "electric_car = ElectricCar(\"Electric Vehicle\", \"Tesla\", 75)\n",
        "electric_car.display_info()"
      ],
      "metadata": {
        "colab": {
          "base_uri": "https://localhost:8080/"
        },
        "id": "e1qcMcpk3CC_",
        "outputId": "debc319c-c041-4a43-e147-1cebe82c167b"
      },
      "execution_count": null,
      "outputs": [
        {
          "output_type": "stream",
          "name": "stdout",
          "text": [
            "Vehicle type: Electric Vehicle\n",
            "Brand: Tesla\n",
            "Battery capacity: 75 kWh\n"
          ]
        }
      ]
    },
    {
      "cell_type": "code",
      "source": [
        "# 4. Demonstrate polymorphism by creating a base class Bird with a method fly(). Create two derived classes Sparrow and Penguin that override the fly() method.\n",
        "\n",
        "class Bird:\n",
        "    def fly(self):\n",
        "        print(\"Some birds can fly\")\n",
        "\n",
        "class Sparrow(Bird):\n",
        "    def fly(self):\n",
        "        print(\"Sparrow flies high\")\n",
        "\n",
        "class Penguin(Bird):\n",
        "    def fly(self):\n",
        "        print(\"Penguins can't fly\")\n",
        "\n",
        "b=Bird()\n",
        "print(b.fly())\n",
        "s=Sparrow()\n",
        "print(s.fly())\n",
        "p=Penguin()\n",
        "print(p.fly())"
      ],
      "metadata": {
        "colab": {
          "base_uri": "https://localhost:8080/"
        },
        "id": "2Tzeaz9s38nj",
        "outputId": "18d364a4-c1f3-4856-92f4-f76d43e1bac7"
      },
      "execution_count": null,
      "outputs": [
        {
          "output_type": "stream",
          "name": "stdout",
          "text": [
            "Some birds can fly\n",
            "None\n",
            "Sparrow flies high\n",
            "None\n",
            "Penguins can't fly\n",
            "None\n"
          ]
        }
      ]
    },
    {
      "cell_type": "code",
      "source": [
        "# 5.Write a program to demonstrate encapsulation by creating a class BankAccount with private attributes  balance and methods to deposit, withdraw, and check balance\n",
        "\n",
        "class BankAccount:\n",
        "    def __init__(self, balance=0):\n",
        "        self.__balance = balance\n",
        "\n",
        "    def deposit(self, amount):\n",
        "        self.__balance += amount\n",
        "\n",
        "    def withdraw(self, amount):\n",
        "        if amount <= self.__balance:\n",
        "            self.__balance -= amount\n",
        "        else:\n",
        "            print(\"Insufficient funds\")\n",
        "\n",
        "    def check_balance(self):\n",
        "        print(self.__balance)\n",
        "\n",
        "b=BankAccount(2000)\n",
        "b.deposit(500)\n",
        "b.check_balance()\n",
        "b.withdraw(1000)\n",
        "b.check_balance()"
      ],
      "metadata": {
        "colab": {
          "base_uri": "https://localhost:8080/"
        },
        "id": "M1cZ7YH15mTR",
        "outputId": "58ad68b6-68bc-46de-dd50-c9cfe5cfb5c9"
      },
      "execution_count": null,
      "outputs": [
        {
          "output_type": "stream",
          "name": "stdout",
          "text": [
            "2500\n",
            "1500\n"
          ]
        }
      ]
    },
    {
      "cell_type": "code",
      "source": [
        "# 6.Demonstrate runtime polymorphism using a method play() in a base class Instrument. Derive classes Guitar and Piano that implement their own version of play().\n",
        "\n",
        "class Instrument:\n",
        "    def play(self):\n",
        "        print(\"Playing instrument\")\n",
        "\n",
        "class Guitar(Instrument):\n",
        "    def play(self):\n",
        "        print(\"Strumming guitar\")\n",
        "\n",
        "class Piano(Instrument):\n",
        "    def play(self):\n",
        "        print(\"Playing piano\")\n",
        "\n",
        "i=Instrument()\n",
        "i.play()\n",
        "g=Guitar()\n",
        "g.play()\n",
        "p=Piano()\n",
        "p.play()"
      ],
      "metadata": {
        "id": "xiU4Wtnb6oGe",
        "colab": {
          "base_uri": "https://localhost:8080/"
        },
        "outputId": "afaf2e9f-69e0-4cba-a437-10625ae08a7e"
      },
      "execution_count": 3,
      "outputs": [
        {
          "output_type": "stream",
          "name": "stdout",
          "text": [
            "Playing instrument\n",
            "Strumming guitar\n",
            "Playing piano\n"
          ]
        }
      ]
    },
    {
      "cell_type": "code",
      "source": [
        "# 7.Create a class MathOperations with a class method add_numbers() to add two numbers and a static method subtract_numbers() to subtract two numbers.\n",
        "\n",
        "class MathOperations:\n",
        "    @classmethod\n",
        "    def add_numbers(cls, a, b):\n",
        "        return a + b\n",
        "\n",
        "    @staticmethod\n",
        "    def subtract_numbers(a, b):\n",
        "        return a - b\n",
        "\n",
        "result1 = MathOperations.add_numbers(10, 5)\n",
        "result2 = MathOperations.subtract_numbers(10, 5)\n",
        "print(f\"Addition: {result1}\")\n",
        "print(f\"Subtraction: {result2}\")"
      ],
      "metadata": {
        "colab": {
          "base_uri": "https://localhost:8080/"
        },
        "id": "0_bB7TY2b2P3",
        "outputId": "534cab6a-5ade-4e24-8435-1ba5917c5eff"
      },
      "execution_count": 4,
      "outputs": [
        {
          "output_type": "stream",
          "name": "stdout",
          "text": [
            "Addition: 15\n",
            "Subtraction: 5\n"
          ]
        }
      ]
    },
    {
      "cell_type": "code",
      "source": [
        "# 8. Implement a class Person with a class method to count the total number of persons created.\n",
        "\n",
        "class Person:\n",
        "    count = 0\n",
        "\n",
        "    def __init__(self, name):\n",
        "        self.name = name\n",
        "        Person.count += 1\n",
        "\n",
        "    @classmethod\n",
        "    def total_persons(cls):\n",
        "        return cls.count\n",
        "\n",
        "person1 = Person(\"Alice\")\n",
        "person2 = Person(\"Bob\")\n",
        "person3 = Person(\"Charlie\")\n",
        "print(f\"Total persons created: {Person.total_persons()}\")"
      ],
      "metadata": {
        "colab": {
          "base_uri": "https://localhost:8080/"
        },
        "id": "pWXxmMxQcsdX",
        "outputId": "07b4a136-e0d3-42d9-949b-e98676420d2c"
      },
      "execution_count": 7,
      "outputs": [
        {
          "output_type": "stream",
          "name": "stdout",
          "text": [
            "Total persons created: 3\n"
          ]
        }
      ]
    },
    {
      "cell_type": "code",
      "source": [
        "# 9.Write a class Fraction with attributes numerator and denominator. Override the str method to display the fraction as \"numerator/denominator\".\n",
        "\n",
        "class Fraction:\n",
        "    def __init__(self, numerator, denominator):\n",
        "        self.numerator = numerator\n",
        "        self.denominator = denominator\n",
        "\n",
        "    def __str__(self):\n",
        "        return f\"{self.numerator}/{self.denominator}\"\n",
        "    def simplify(self):\n",
        "      def gcd(a, b):\n",
        "        while b:\n",
        "          a, b = b, a %b\n",
        "        return a\n",
        "        common_divisor = gcd(abs(self.numerator), abs(self.denominator))\n",
        "        self.numerator //= common_divisor\n",
        "        self.denominator //= common_divisor\n",
        "\n",
        "fraction = Fraction(8, 12)\n",
        "print(f\"Original fraction: {fraction}\")\n",
        "fraction.simplify()\n",
        "print(f\"Simplified fraction: {fraction}\")"
      ],
      "metadata": {
        "colab": {
          "base_uri": "https://localhost:8080/"
        },
        "id": "0Oyl9kNAdHZ0",
        "outputId": "07b7a1f6-e88b-4e69-f40c-f26364cfc0d2"
      },
      "execution_count": 8,
      "outputs": [
        {
          "output_type": "stream",
          "name": "stdout",
          "text": [
            "Original fraction: 8/12\n",
            "Simplified fraction: 8/12\n"
          ]
        }
      ]
    },
    {
      "cell_type": "code",
      "source": [
        "# 10. Demonstrate operator overloading by creating a class Vector and overriding the add method to add two vectors.\n",
        "\n",
        "class Vector:\n",
        "    def __init__(self, x, y):\n",
        "        self.x = x\n",
        "        self.y = y\n",
        "\n",
        "    def __add__(self, other):\n",
        "        return Vector(self.x + other.x, self.y + other.y)\n",
        "\n",
        "    def __str__(self):\n",
        "        return f\"Vector({self.x}, {self.y})\"\n",
        "\n",
        "\n",
        "v1 = Vector(2, 3)\n",
        "v2 = Vector(4, 5)\n",
        "v3 = v1 + v2\n",
        "print(f\"Vector 1: {v1}\")\n",
        "print(f\"Vector 2: {v2}\")\n",
        "print(f\"Sum: {v3}\")"
      ],
      "metadata": {
        "colab": {
          "base_uri": "https://localhost:8080/"
        },
        "id": "9kF4VZOpgR8P",
        "outputId": "92ba97ca-3b5f-41b1-92de-a6584b4cc072"
      },
      "execution_count": 9,
      "outputs": [
        {
          "output_type": "stream",
          "name": "stdout",
          "text": [
            "Vector 1: Vector(2, 3)\n",
            "Vector 2: Vector(4, 5)\n",
            "Sum: Vector(6, 8)\n"
          ]
        }
      ]
    },
    {
      "cell_type": "code",
      "source": [
        "# 11.Create a class Person with attributes name and age. Add a method greet() that prints \"Hello, my name is {name} and I am {age} years old.\"\n",
        "\n",
        "class PersonWithGreet:\n",
        "    def __init__(self, name, age):\n",
        "        self.name = name\n",
        "        self.age = age\n",
        "\n",
        "    def greet(self):\n",
        "        print(f\"Hello, my name is {self.name} and I am {self.age} years old.\")\n",
        "\n",
        "\n",
        "person = PersonWithGreet(\"Agnick\", 22)\n",
        "person.greet()"
      ],
      "metadata": {
        "colab": {
          "base_uri": "https://localhost:8080/"
        },
        "id": "pNnrzNIdjNnz",
        "outputId": "68f93aa7-e3ba-45bb-ab45-4dc5a7c7d549"
      },
      "execution_count": 11,
      "outputs": [
        {
          "output_type": "stream",
          "name": "stdout",
          "text": [
            "Hello, my name is Agnick and I am 22 years old.\n"
          ]
        }
      ]
    },
    {
      "cell_type": "code",
      "source": [
        "# 12. Implement a class Student with attributes name and grades. Create a method average_grade() to compute the average of the grades.\n",
        "\n",
        "class Student:\n",
        "    def __init__(self, name, grades):\n",
        "        self.name = name\n",
        "        self.grades = grades\n",
        "\n",
        "    def average_grade(self):\n",
        "        if not self.grades:\n",
        "            return 0\n",
        "        return sum(self.grades) / len(self.grades)\n",
        "\n",
        "\n",
        "student = Student(\"Alice\", [85, 92, 78, 96, 88])\n",
        "print(f\"Student: {student.name}\")\n",
        "print(f\"Average grade: {student.average_grade():.2f}\")"
      ],
      "metadata": {
        "colab": {
          "base_uri": "https://localhost:8080/"
        },
        "id": "kLROWE1CjeX4",
        "outputId": "6eee4a68-76a9-4fbb-a409-8e281a5230da"
      },
      "execution_count": 12,
      "outputs": [
        {
          "output_type": "stream",
          "name": "stdout",
          "text": [
            "Student: Alice\n",
            "Average grade: 87.80\n"
          ]
        }
      ]
    },
    {
      "cell_type": "code",
      "source": [
        "# 13.Create a class Rectangle with methods set_dimensions() to set the dimensions and area() to calculate the area.\n",
        "\n",
        "class RectangleWithMethods:\n",
        "    def __init__(self):\n",
        "        self.length = 0\n",
        "        self.width = 0\n",
        "\n",
        "    def set_dimensions(self, length, width):\n",
        "        self.length = length\n",
        "        self.width = width\n",
        "\n",
        "    def area(self):\n",
        "        return self.length * self.width\n",
        "\n",
        "\n",
        "rect = RectangleWithMethods()\n",
        "rect.set_dimensions(5, 3)\n",
        "print(f\"Rectangle area: {rect.area()}\")"
      ],
      "metadata": {
        "colab": {
          "base_uri": "https://localhost:8080/"
        },
        "id": "amyts0Kgju1b",
        "outputId": "21b5d9c9-748c-4c38-f84e-5033e3b37b9a"
      },
      "execution_count": 13,
      "outputs": [
        {
          "output_type": "stream",
          "name": "stdout",
          "text": [
            "Rectangle area: 15\n"
          ]
        }
      ]
    },
    {
      "cell_type": "code",
      "source": [
        "# 14.Create a class Employee with a method calculate_salary() that computes the salary based on hours worked and hourly rate. Create a derived class Manager that adds a bonus to the salary.\n",
        "\n",
        "class Employee:\n",
        "    def __init__(self, name, hours_worked, hourly_rate):\n",
        "        self.name = name\n",
        "        self.hours_worked = hours_worked\n",
        "        self.hourly_rate = hourly_rate\n",
        "\n",
        "    def calculate_salary(self):\n",
        "        return self.hours_worked * self.hourly_rate\n",
        "\n",
        "class Manager(Employee):\n",
        "    def __init__(self, name, hours_worked, hourly_rate, bonus):\n",
        "        super().__init__(name, hours_worked, hourly_rate)\n",
        "        self.bonus = bonus\n",
        "\n",
        "    def calculate_salary(self):\n",
        "        base_salary = super().calculate_salary()\n",
        "        return base_salary + self.bonus\n",
        "\n",
        "\n",
        "employee = Employee(\"John\", 40, 20)\n",
        "manager = Manager(\"Jane\", 40, 25, 500)\n",
        "print(f\"Employee salary: ${employee.calculate_salary()}\")\n",
        "print(f\"Manager salary: ${manager.calculate_salary()}\")"
      ],
      "metadata": {
        "colab": {
          "base_uri": "https://localhost:8080/"
        },
        "id": "k-EAFDNxj9gL",
        "outputId": "4443b611-8c33-47ce-ab17-552604c2bdc3"
      },
      "execution_count": 14,
      "outputs": [
        {
          "output_type": "stream",
          "name": "stdout",
          "text": [
            "Employee salary: $800\n",
            "Manager salary: $1500\n"
          ]
        }
      ]
    },
    {
      "cell_type": "code",
      "source": [
        "# 15. Create a class Product with attributes name, price, and quantity. Implement a method total_price() that calculates the total price of the product.\n",
        "\n",
        "class Product:\n",
        "    def __init__(self, name, price, quantity):\n",
        "        self.name = name\n",
        "        self.price = price\n",
        "        self.quantity = quantity\n",
        "\n",
        "    def total_price(self):\n",
        "        return self.price * self.quantity\n",
        "\n",
        "\n",
        "product = Product(\"Laptop\", 999.99, 2)\n",
        "print(f\"Product: {product.name}\")\n",
        "print(f\"Total price: ${product.total_price():.2f}\")"
      ],
      "metadata": {
        "colab": {
          "base_uri": "https://localhost:8080/"
        },
        "id": "VdlEagp0kP4Q",
        "outputId": "7f374e95-5a54-4274-e3c1-f992f139f945"
      },
      "execution_count": 15,
      "outputs": [
        {
          "output_type": "stream",
          "name": "stdout",
          "text": [
            "Product: Laptop\n",
            "Total price: $1999.98\n"
          ]
        }
      ]
    },
    {
      "cell_type": "code",
      "source": [
        "# 16. Create a class Animal with an abstract method sound(). Create two derived classes Cow and Sheep that implement the sound() method.\n",
        "from abc import ABC, abstractmethod\n",
        "class AbstractAnimal(ABC):\n",
        "    @abstractmethod\n",
        "    def sound(self):\n",
        "        pass\n",
        "\n",
        "class Cow(AbstractAnimal):\n",
        "    def sound(self):\n",
        "        print(\"Moo!\")\n",
        "\n",
        "class Sheep(AbstractAnimal):\n",
        "    def sound(self):\n",
        "        print(\"Baahn!\")\n",
        "\n",
        "\n",
        "cow = Cow()\n",
        "sheep = Sheep()\n",
        "cow.sound()\n",
        "sheep.sound()"
      ],
      "metadata": {
        "colab": {
          "base_uri": "https://localhost:8080/"
        },
        "id": "HuaheVfOkfl2",
        "outputId": "cd7369c4-9db6-43af-9498-7d4ec9011388"
      },
      "execution_count": 18,
      "outputs": [
        {
          "output_type": "stream",
          "name": "stdout",
          "text": [
            "Moo!\n",
            "Baahn!\n"
          ]
        }
      ]
    },
    {
      "cell_type": "code",
      "source": [
        "# 17.Create a class Book with attributes title, author, and year_published. Add a method get_book_info() that returns a formatted string with the book's details.\n",
        "\n",
        "class Book:\n",
        "    def __init__(self, title, author, year_published):\n",
        "        self.title = title\n",
        "        self.author = author\n",
        "        self.year_published = year_published\n",
        "\n",
        "    def get_book_info(self):\n",
        "        return f\"'{self.title}' by {self.author}, published in {self.year_published}\"\n",
        "\n",
        "\n",
        "book = Book(\"1984\", \"George Orwell\", 1949)\n",
        "print(book.get_book_info())"
      ],
      "metadata": {
        "colab": {
          "base_uri": "https://localhost:8080/"
        },
        "id": "icOhnzT1kxp5",
        "outputId": "3b3895d2-36a8-43df-dfb8-a1311cc9d7dd"
      },
      "execution_count": 19,
      "outputs": [
        {
          "output_type": "stream",
          "name": "stdout",
          "text": [
            "'1984' by George Orwell, published in 1949\n"
          ]
        }
      ]
    },
    {
      "cell_type": "code",
      "source": [
        "# 18. Create a class House with attributes address and price. Create a derived class Mansion that adds an attribute number_of_rooms.\n",
        "\n",
        "class House:\n",
        "    def __init__(self, address, price):\n",
        "        self.address = address\n",
        "        self.price = price\n",
        "\n",
        "    def display_info(self):\n",
        "        print(f\"House at {self.address}, Price: ${self.price}\")\n",
        "\n",
        "class Mansion(House):\n",
        "    def __init__(self, address, price, number_of_rooms):\n",
        "        super().__init__(address, price)\n",
        "        self.number_of_rooms = number_of_rooms\n",
        "\n",
        "    def display_info(self):\n",
        "        print(f\"Mansion at {self.address}, Price: ${self.price}, Rooms: {self.number_of_rooms}\")\n",
        "\n",
        "\n",
        "house = House(\"123 Main St\", 250000)\n",
        "mansion = Mansion(\"456 Luxury Ave\", 1500000, 12)\n",
        "house.display_info()\n",
        "mansion.display_info()"
      ],
      "metadata": {
        "colab": {
          "base_uri": "https://localhost:8080/"
        },
        "id": "mo_eMiRTlkZf",
        "outputId": "0d361589-96d9-40c6-fac3-6c048698e9f2"
      },
      "execution_count": 20,
      "outputs": [
        {
          "output_type": "stream",
          "name": "stdout",
          "text": [
            "House at 123 Main St, Price: $250000\n",
            "Mansion at 456 Luxury Ave, Price: $1500000, Rooms: 12\n"
          ]
        }
      ]
    },
    {
      "cell_type": "code",
      "source": [],
      "metadata": {
        "id": "cR8Rq9UqlyK-"
      },
      "execution_count": null,
      "outputs": []
    }
  ]
}